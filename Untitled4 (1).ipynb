{
 "cells": [
  {
   "cell_type": "code",
   "execution_count": 1,
   "id": "ed7c0a9c",
   "metadata": {},
   "outputs": [
    {
     "name": "stdout",
     "output_type": "stream",
     "text": [
      "[1, 2, 3, 4, 5]\n",
      "[(2, 1), (1, 2), (2, 3), (4, 4), (2, 5)]\n"
     ]
    }
   ],
   "source": [
    "#Write a Python program to get a list, sorted in increasing order by the last element in each tuple from a given list of non-empty tuples\n",
    "tuple1 = [(2, 5), (1, 2), (4, 4), (2, 3), (2, 1)]\n",
    "\n",
    "List2 =[]\n",
    "List3 =[]\n",
    "\n",
    "for t in tuple1:\n",
    "    List2.append(t[1],)\n",
    "\n",
    "List2.sort()\n",
    "print(List2)\n",
    "\n",
    "for l in List2:\n",
    "    for q in tuple1:\n",
    "        if l == int(q[1],):\n",
    "            List3.append(q)\n",
    "\n",
    "print(List3)"
   ]
  },
  {
   "cell_type": "code",
   "execution_count": 6,
   "id": "fb37077b",
   "metadata": {},
   "outputs": [
    {
     "name": "stdout",
     "output_type": "stream",
     "text": [
      "{'a': '97', 'b': '98', 'c': '99', 'd': '100', 'e': '101', 'f': '102', 'g': '103', 'h': '104', 'i': '105', 'j': '106', 'k': '107', 'l': '108', 'm': '109', 'n': '110', 'o': '111', 'p': '112', 'q': '113', 'r': '114', 's': '115', 't': '116', 'u': '117', 'v': '118', 'w': '119', 'x': '120', 'y': '121', 'z': '122'}\n"
     ]
    }
   ],
   "source": [
    "#Write a Python program to print a dictionary whose keys should be the alphabet from a-z and the value should be corresponding ASCII values\n",
    "asciidict = dict()\n",
    "alfapetTeller = range(97,123)\n",
    "for i in alfapetTeller:\n",
    "    asciidict[chr(i)] = str(i)\n",
    "print(asciidict)"
   ]
  },
  {
   "cell_type": "code",
   "execution_count": null,
   "id": "e606d2b7",
   "metadata": {},
   "outputs": [],
   "source": []
  }
 ],
 "metadata": {
  "kernelspec": {
   "display_name": "Python 3 (ipykernel)",
   "language": "python",
   "name": "python3"
  },
  "language_info": {
   "codemirror_mode": {
    "name": "ipython",
    "version": 3
   },
   "file_extension": ".py",
   "mimetype": "text/x-python",
   "name": "python",
   "nbconvert_exporter": "python",
   "pygments_lexer": "ipython3",
   "version": "3.9.12"
  }
 },
 "nbformat": 4,
 "nbformat_minor": 5
}
