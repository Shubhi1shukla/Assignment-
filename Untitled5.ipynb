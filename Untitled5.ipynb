{
 "cells": [
  {
   "cell_type": "code",
   "execution_count": 17,
   "id": "414ea4c1",
   "metadata": {},
   "outputs": [
    {
     "name": "stdout",
     "output_type": "stream",
     "text": [
      "20\n"
     ]
    }
   ],
   "source": [
    "#Write a Python function to sum all the numbers in a list.\n",
    "\n",
    "def sum(numbers):\n",
    "    total=0\n",
    "    for x in numbers:\n",
    "        total+=x\n",
    "    return total\n",
    "print(sum((8, 2, 3, 0, 7)))"
   ]
  },
  {
   "cell_type": "code",
   "execution_count": 18,
   "id": "4d0538f8",
   "metadata": {},
   "outputs": [
    {
     "name": "stdout",
     "output_type": "stream",
     "text": [
      "dcba4321\n"
     ]
    }
   ],
   "source": [
    "#Write a Python program to reverse a string.\n",
    "\n",
    "def string_reverse(str1):\n",
    "\n",
    "    rstr1 = ''\n",
    "    index = len(str1)\n",
    "    while index > 0:\n",
    "        rstr1 += str1[ index - 1 ]\n",
    "        index = index - 1\n",
    "    return rstr1\n",
    "print(string_reverse('1234abcd'))"
   ]
  },
  {
   "cell_type": "code",
   "execution_count": 27,
   "id": "56a83bb4",
   "metadata": {},
   "outputs": [
    {
     "name": "stdout",
     "output_type": "stream",
     "text": [
      "Lower case characters:  12\n",
      "Upper case characters:  3\n"
     ]
    }
   ],
   "source": [
    "s = \"The quick Brow Fox\"\n",
    "l,u = 0,0\n",
    "for i in s:\n",
    "    if (i>='a'and i<='z'):\n",
    "         \n",
    "        # counting lower case\n",
    "        l=l+1               \n",
    "    if (i>='A'and i<='Z'):\n",
    "         \n",
    "        #counting upper case\n",
    "        u=u+1\n",
    "         \n",
    "print('Lower case characters: ',l)\n",
    "print('Upper case characters: ',u)"
   ]
  },
  {
   "cell_type": "code",
   "execution_count": null,
   "id": "fc004213",
   "metadata": {},
   "outputs": [],
   "source": []
  },
  {
   "cell_type": "code",
   "execution_count": null,
   "id": "e10e5757",
   "metadata": {},
   "outputs": [],
   "source": []
  }
 ],
 "metadata": {
  "kernelspec": {
   "display_name": "Python 3 (ipykernel)",
   "language": "python",
   "name": "python3"
  },
  "language_info": {
   "codemirror_mode": {
    "name": "ipython",
    "version": 3
   },
   "file_extension": ".py",
   "mimetype": "text/x-python",
   "name": "python",
   "nbconvert_exporter": "python",
   "pygments_lexer": "ipython3",
   "version": "3.9.12"
  }
 },
 "nbformat": 4,
 "nbformat_minor": 5
}
